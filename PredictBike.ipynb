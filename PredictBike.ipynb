{
  "cells": [
    {
      "cell_type": "code",
      "execution_count": 1,
      "metadata": {
        "id": "sGuy2E3fU0v3"
      },
      "outputs": [],
      "source": [
        "import pandas as pd\n",
        "import numpy as np\n",
        "from sklearn.preprocessing import MinMaxScaler\n",
        "import matplotlib.pyplot as plt"
      ]
    },
    {
      "cell_type": "code",
      "execution_count": 27,
      "metadata": {
        "colab": {
          "base_uri": "https://localhost:8080/",
          "height": 206
        },
        "id": "jPHothHJfp4x",
        "outputId": "49faa90c-df35-40db-e46f-b232b0274f72"
      },
      "outputs": [
        {
          "data": {
            "text/html": [
              "<div>\n",
              "<style scoped>\n",
              "    .dataframe tbody tr th:only-of-type {\n",
              "        vertical-align: middle;\n",
              "    }\n",
              "\n",
              "    .dataframe tbody tr th {\n",
              "        vertical-align: top;\n",
              "    }\n",
              "\n",
              "    .dataframe thead th {\n",
              "        text-align: right;\n",
              "    }\n",
              "</style>\n",
              "<table border=\"1\" class=\"dataframe\">\n",
              "  <thead>\n",
              "    <tr style=\"text-align: right;\">\n",
              "      <th></th>\n",
              "      <th>timestamp</th>\n",
              "      <th>count</th>\n",
              "      <th>temp_real_C</th>\n",
              "      <th>temp_C_feel_like</th>\n",
              "      <th>humidity_percent</th>\n",
              "      <th>wind_speed</th>\n",
              "      <th>weather</th>\n",
              "      <th>is_holiday</th>\n",
              "      <th>is_weekend</th>\n",
              "      <th>season</th>\n",
              "    </tr>\n",
              "  </thead>\n",
              "  <tbody>\n",
              "    <tr>\n",
              "      <th>0</th>\n",
              "      <td>1/4/2015 0:00</td>\n",
              "      <td>182</td>\n",
              "      <td>3.0</td>\n",
              "      <td>2.0</td>\n",
              "      <td>0.930</td>\n",
              "      <td>6.0</td>\n",
              "      <td>Broken clouds</td>\n",
              "      <td>0</td>\n",
              "      <td>1</td>\n",
              "      <td>winter</td>\n",
              "    </tr>\n",
              "    <tr>\n",
              "      <th>1</th>\n",
              "      <td>1/4/2015 1:00</td>\n",
              "      <td>138</td>\n",
              "      <td>3.0</td>\n",
              "      <td>2.5</td>\n",
              "      <td>0.930</td>\n",
              "      <td>5.0</td>\n",
              "      <td>Clear</td>\n",
              "      <td>0</td>\n",
              "      <td>1</td>\n",
              "      <td>winter</td>\n",
              "    </tr>\n",
              "    <tr>\n",
              "      <th>2</th>\n",
              "      <td>1/4/2015 2:00</td>\n",
              "      <td>134</td>\n",
              "      <td>2.5</td>\n",
              "      <td>2.5</td>\n",
              "      <td>0.965</td>\n",
              "      <td>0.0</td>\n",
              "      <td>Clear</td>\n",
              "      <td>0</td>\n",
              "      <td>1</td>\n",
              "      <td>winter</td>\n",
              "    </tr>\n",
              "    <tr>\n",
              "      <th>3</th>\n",
              "      <td>1/4/2015 3:00</td>\n",
              "      <td>72</td>\n",
              "      <td>2.0</td>\n",
              "      <td>2.0</td>\n",
              "      <td>1.000</td>\n",
              "      <td>0.0</td>\n",
              "      <td>Clear</td>\n",
              "      <td>0</td>\n",
              "      <td>1</td>\n",
              "      <td>winter</td>\n",
              "    </tr>\n",
              "    <tr>\n",
              "      <th>4</th>\n",
              "      <td>1/4/2015 4:00</td>\n",
              "      <td>47</td>\n",
              "      <td>2.0</td>\n",
              "      <td>0.0</td>\n",
              "      <td>0.930</td>\n",
              "      <td>6.5</td>\n",
              "      <td>Clear</td>\n",
              "      <td>0</td>\n",
              "      <td>1</td>\n",
              "      <td>winter</td>\n",
              "    </tr>\n",
              "  </tbody>\n",
              "</table>\n",
              "</div>"
            ],
            "text/plain": [
              "       timestamp  count  temp_real_C  temp_C_feel_like  humidity_percent  \\\n",
              "0  1/4/2015 0:00    182          3.0               2.0             0.930   \n",
              "1  1/4/2015 1:00    138          3.0               2.5             0.930   \n",
              "2  1/4/2015 2:00    134          2.5               2.5             0.965   \n",
              "3  1/4/2015 3:00     72          2.0               2.0             1.000   \n",
              "4  1/4/2015 4:00     47          2.0               0.0             0.930   \n",
              "\n",
              "   wind_speed        weather  is_holiday  is_weekend  season  \n",
              "0         6.0  Broken clouds           0           1  winter  \n",
              "1         5.0          Clear           0           1  winter  \n",
              "2         0.0          Clear           0           1  winter  \n",
              "3         0.0          Clear           0           1  winter  \n",
              "4         6.5          Clear           0           1  winter  "
            ]
          },
          "execution_count": 27,
          "metadata": {},
          "output_type": "execute_result"
        }
      ],
      "source": [
        "data = pd.read_csv(r'D:\\Năm 3\\Hk2\\Bigdata\\DoAnCuoiKy\\london_bikes.csv')\n",
        "\n",
        "data.head()"
      ]
    },
    {
      "cell_type": "code",
      "execution_count": 28,
      "metadata": {},
      "outputs": [
        {
          "data": {
            "text/plain": [
              "timestamp           0\n",
              "count               0\n",
              "temp_real_C         0\n",
              "temp_C_feel_like    0\n",
              "humidity_percent    0\n",
              "wind_speed          0\n",
              "weather             0\n",
              "is_holiday          0\n",
              "is_weekend          0\n",
              "season              0\n",
              "dtype: int64"
            ]
          },
          "execution_count": 28,
          "metadata": {},
          "output_type": "execute_result"
        }
      ],
      "source": [
        "data.isnull().sum()"
      ]
    },
    {
      "cell_type": "code",
      "execution_count": 29,
      "metadata": {
        "colab": {
          "base_uri": "https://localhost:8080/"
        },
        "id": "lIdcRjjlWQ37",
        "outputId": "d9f4550f-85d0-4c54-c41f-85402b93d102"
      },
      "outputs": [
        {
          "name": "stdout",
          "output_type": "stream",
          "text": [
            "<class 'pandas.core.frame.DataFrame'>\n",
            "RangeIndex: 17414 entries, 0 to 17413\n",
            "Data columns (total 10 columns):\n",
            " #   Column            Non-Null Count  Dtype  \n",
            "---  ------            --------------  -----  \n",
            " 0   timestamp         17414 non-null  object \n",
            " 1   count             17414 non-null  int64  \n",
            " 2   temp_real_C       17414 non-null  float64\n",
            " 3   temp_C_feel_like  17414 non-null  float64\n",
            " 4   humidity_percent  17414 non-null  float64\n",
            " 5   wind_speed        17414 non-null  float64\n",
            " 6   weather           17414 non-null  object \n",
            " 7   is_holiday        17414 non-null  int64  \n",
            " 8   is_weekend        17414 non-null  int64  \n",
            " 9   season            17414 non-null  object \n",
            "dtypes: float64(4), int64(3), object(3)\n",
            "memory usage: 1.3+ MB\n"
          ]
        }
      ],
      "source": [
        "data.info()\n"
      ]
    },
    {
      "cell_type": "code",
      "execution_count": 30,
      "metadata": {
        "id": "o6BQ4Y2MhTY-"
      },
      "outputs": [],
      "source": [
        "data[\"timestamp\"] = pd.to_datetime(data[\"timestamp\"])\n"
      ]
    },
    {
      "cell_type": "code",
      "execution_count": 31,
      "metadata": {},
      "outputs": [
        {
          "data": {
            "text/plain": [
              "0       2015-01-04 00:00:00\n",
              "1       2015-01-04 01:00:00\n",
              "2       2015-01-04 02:00:00\n",
              "3       2015-01-04 03:00:00\n",
              "4       2015-01-04 04:00:00\n",
              "                ...        \n",
              "17409   2017-01-03 19:00:00\n",
              "17410   2017-01-03 20:00:00\n",
              "17411   2017-01-03 21:00:00\n",
              "17412   2017-01-03 22:00:00\n",
              "17413   2017-01-03 23:00:00\n",
              "Name: timestamp, Length: 17414, dtype: datetime64[ns]"
            ]
          },
          "execution_count": 31,
          "metadata": {},
          "output_type": "execute_result"
        }
      ],
      "source": [
        "data['timestamp']\n"
      ]
    },
    {
      "cell_type": "code",
      "execution_count": 32,
      "metadata": {
        "id": "iDFh57bJWewj"
      },
      "outputs": [],
      "source": [
        "train = data.iloc[:17000,1:2]\n",
        "test = data.iloc[17000:17414, 1:2]"
      ]
    },
    {
      "cell_type": "code",
      "execution_count": 33,
      "metadata": {
        "colab": {
          "base_uri": "https://localhost:8080/"
        },
        "id": "mJ1iRyZDWhvM",
        "outputId": "d14944b3-ac56-4de0-c226-e65766c83d7d"
      },
      "outputs": [
        {
          "name": "stdout",
          "output_type": "stream",
          "text": [
            "(17000, 1)\n",
            "(414, 1)\n"
          ]
        }
      ],
      "source": [
        "print(train.shape)\n",
        "print(test.shape)"
      ]
    },
    {
      "cell_type": "markdown",
      "metadata": {},
      "source": [
        "### Chuẩn hoá dữ liệu"
      ]
    },
    {
      "cell_type": "code",
      "execution_count": 34,
      "metadata": {
        "colab": {
          "base_uri": "https://localhost:8080/"
        },
        "id": "2v_lQZ8fWjmj",
        "outputId": "baab50d1-f060-45d0-ee2d-d01990208e88"
      },
      "outputs": [
        {
          "name": "stdout",
          "output_type": "stream",
          "text": [
            "[ 1.          0.78148357 -0.41172684  0.18486682 -0.07510114 -0.09947694\n",
            " -0.08494917 -0.00403993  0.0920456   0.07065422 -0.32935188 -0.06873344\n",
            "  0.05112775  0.04852911  0.06695059 -0.19621297 -0.07610221  0.14365297\n",
            " -0.11638129  0.18990804  0.16480713]\n"
          ]
        }
      ],
      "source": [
        "from statsmodels.tsa.stattools import pacf\n",
        "pacf = pacf(data['count'], nlags=20, method='ols')\n",
        "print(pacf)"
      ]
    },
    {
      "cell_type": "code",
      "execution_count": 35,
      "metadata": {
        "id": "U1EzIpTPXA9D"
      },
      "outputs": [],
      "source": [
        "from sklearn.preprocessing import MinMaxScaler\n",
        "sc = MinMaxScaler(feature_range = (0,1))\n",
        "train_scaled = sc.fit_transform(train)"
      ]
    },
    {
      "cell_type": "code",
      "execution_count": 36,
      "metadata": {
        "colab": {
          "base_uri": "https://localhost:8080/"
        },
        "id": "vBZnofdGXDRU",
        "outputId": "571cba0f-ac48-4063-f59e-13bf7c91be49"
      },
      "outputs": [
        {
          "data": {
            "text/plain": [
              "array([[0.02315522],\n",
              "       [0.01755725],\n",
              "       [0.01704835],\n",
              "       ...,\n",
              "       [0.17468193],\n",
              "       [0.16348601],\n",
              "       [0.14083969]])"
            ]
          },
          "execution_count": 36,
          "metadata": {},
          "output_type": "execute_result"
        }
      ],
      "source": [
        "train_scaled\n"
      ]
    },
    {
      "cell_type": "code",
      "execution_count": 37,
      "metadata": {
        "colab": {
          "base_uri": "https://localhost:8080/"
        },
        "id": "z7f9tcKvbYdy",
        "outputId": "b1379d95-4c35-4b38-bc78-6ad919c3be1b"
      },
      "outputs": [
        {
          "data": {
            "text/plain": [
              "(17000, 1)"
            ]
          },
          "execution_count": 37,
          "metadata": {},
          "output_type": "execute_result"
        }
      ],
      "source": [
        "train_scaled.shape\n"
      ]
    },
    {
      "cell_type": "code",
      "execution_count": 38,
      "metadata": {
        "id": "9Orv_A5RXH4t"
      },
      "outputs": [],
      "source": [
        "x_train = []\n",
        "y_train = []\n",
        "\n",
        "for i in range(1, 17000):\n",
        "    x_train.append(train_scaled[i-1:i, 0])\n",
        "    y_train.append(train_scaled[i, 0])\n",
        "\n",
        "x_train, y_train = np.array(x_train), np.array(y_train)"
      ]
    },
    {
      "cell_type": "code",
      "execution_count": 39,
      "metadata": {
        "colab": {
          "base_uri": "https://localhost:8080/"
        },
        "id": "GWWFi_C2XRVC",
        "outputId": "8881b318-4263-419c-994f-890d189b7809"
      },
      "outputs": [
        {
          "data": {
            "text/plain": [
              "(16999, 1)"
            ]
          },
          "execution_count": 39,
          "metadata": {},
          "output_type": "execute_result"
        }
      ],
      "source": [
        "x_train.shape\n"
      ]
    },
    {
      "cell_type": "code",
      "execution_count": 40,
      "metadata": {
        "colab": {
          "base_uri": "https://localhost:8080/"
        },
        "id": "LJfLDe8nXTeK",
        "outputId": "9f47abf4-cc45-4a9a-b877-baa570c4e8f8"
      },
      "outputs": [
        {
          "data": {
            "text/plain": [
              "(16999, 1, 1)"
            ]
          },
          "execution_count": 40,
          "metadata": {},
          "output_type": "execute_result"
        }
      ],
      "source": [
        "x_train = np.reshape(x_train, (x_train.shape[0], x_train.shape[1],1))\n",
        "x_train.shape"
      ]
    },
    {
      "cell_type": "markdown",
      "metadata": {},
      "source": [
        "### Tạo Model"
      ]
    },
    {
      "cell_type": "code",
      "execution_count": 41,
      "metadata": {
        "id": "eu-BxAw0XVt7"
      },
      "outputs": [],
      "source": [
        "from keras.models import Sequential\n",
        "from keras.layers import SimpleRNN\n",
        "from tensorflow.keras.layers import Dense, Activation"
      ]
    },
    {
      "cell_type": "code",
      "execution_count": 42,
      "metadata": {
        "id": "DPHVgDqBiFxp"
      },
      "outputs": [],
      "source": [
        "rnn = Sequential()\n",
        "rnn.add(SimpleRNN(activation='relu', units=6, input_shape=(1,1)))\n",
        "rnn.add(Dense(activation='linear', units=1))\n"
      ]
    },
    {
      "cell_type": "markdown",
      "metadata": {},
      "source": [
        "-  Đối tượng Sequential cho phép chúng ta xây dựng một mạng nơ-ron tuần tự bằng cách thêm các lớp lần lượt.\n",
        "- Lớp SimpleRNN được sử dụng để tạo ra các tầng RNN đơn giản với các đơn vị (units) là 6. Tham số activation='relu' chỉ ra hàm kích hoạt ReLU sẽ được sử dụng. Đối số input_shape=(1,1) chỉ ra kích thước đầu vào là (1,1), tức là có một thời điểm (time step) và một đặc trưng (feature).\n",
        "- Thêm một lớp Dense vào mô hình. Lớp Dense là một lớp kết nối đầy đủ trong mạng nơ-ron. Tham số units=1 chỉ ra rằng lớp này có một đơn vị đầu ra. Tham số activation='linear' chỉ ra hàm kích hoạt tuyến tính sẽ được sử dụng."
      ]
    },
    {
      "cell_type": "code",
      "execution_count": 43,
      "metadata": {
        "colab": {
          "base_uri": "https://localhost:8080/"
        },
        "id": "1w5cpHHdXY5i",
        "outputId": "ccedaaf0-7bae-494d-a388-ceddf9bd44f4"
      },
      "outputs": [
        {
          "name": "stdout",
          "output_type": "stream",
          "text": [
            "Model: \"sequential_1\"\n",
            "_________________________________________________________________\n",
            " Layer (type)                Output Shape              Param #   \n",
            "=================================================================\n",
            " simple_rnn_1 (SimpleRNN)    (None, 6)                 48        \n",
            "                                                                 \n",
            " dense_1 (Dense)             (None, 1)                 7         \n",
            "                                                                 \n",
            "=================================================================\n",
            "Total params: 55 (220.00 Byte)\n",
            "Trainable params: 55 (220.00 Byte)\n",
            "Non-trainable params: 0 (0.00 Byte)\n",
            "_________________________________________________________________\n",
            "None\n"
          ]
        }
      ],
      "source": [
        "print(rnn.summary())\n"
      ]
    },
    {
      "cell_type": "code",
      "execution_count": 44,
      "metadata": {
        "colab": {
          "base_uri": "https://localhost:8080/"
        },
        "id": "OzFmaqlRXdFz",
        "outputId": "535aa473-5edf-43a6-c249-606a860d551e"
      },
      "outputs": [
        {
          "name": "stdout",
          "output_type": "stream",
          "text": [
            "Epoch 1/2\n"
          ]
        },
        {
          "name": "stdout",
          "output_type": "stream",
          "text": [
            "16999/16999 [==============================] - 27s 2ms/step - loss: 0.0078 - mse: 0.0078\n",
            "Epoch 2/2\n",
            "16999/16999 [==============================] - 26s 2ms/step - loss: 0.0077 - mse: 0.0077\n"
          ]
        },
        {
          "data": {
            "text/plain": [
              "<keras.src.callbacks.History at 0x1d442978b50>"
            ]
          },
          "execution_count": 44,
          "metadata": {},
          "output_type": "execute_result"
        }
      ],
      "source": [
        "rnn.compile(loss='mse', optimizer='adam', metrics=['mse'])\n",
        "rnn.fit(x_train, y_train, batch_size=1, epochs=2)\n"
      ]
    },
    {
      "cell_type": "markdown",
      "metadata": {},
      "source": [
        "-  Tham số loss='mse' chỉ ra rằng hàm mất mát (loss function) được sử dụng là mean squared error (MSE)\n",
        "- Tham số optimizer='adam' chỉ ra rằng thuật toán tối ưu hóa Adam sẽ được sử dụng\n",
        "- Tham số metrics=['mse'] chỉ ra rằng độ đo đánh giá mô hình là mean squared error (MSE).\n",
        "- Tiến hành huấn luyện mô hình với dữ liệu x_train và y_train. Tham số x_train là dữ liệu đầu vào, y_train là nhãn tương ứng\n",
        "- Tham số batch_size=1 chỉ ra rằng mỗi lần cập nhật trọng số, một mẫu dữ liệu sẽ được sử dụng\n",
        "- Tham số epochs=2 chỉ ra rằng quá trình huấn luyện sẽ chạy qua tất cả các mẫu dữ liệu hai lần."
      ]
    },
    {
      "cell_type": "code",
      "execution_count": 45,
      "metadata": {
        "colab": {
          "base_uri": "https://localhost:8080/"
        },
        "id": "rLhzRnHwXukM",
        "outputId": "c9f8ae5c-536e-4ab8-a50b-9860f114cfac"
      },
      "outputs": [
        {
          "data": {
            "text/plain": [
              "(414, 1)"
            ]
          },
          "execution_count": 45,
          "metadata": {},
          "output_type": "execute_result"
        }
      ],
      "source": [
        "inputs = sc.transform(test)\n",
        "inputs.shape"
      ]
    },
    {
      "cell_type": "markdown",
      "metadata": {},
      "source": [
        "- Áp dụng phương pháp chuẩn hóa Min-Max lên dữ liệu test bằng cách gọi phương thức transform của đối tượng sc (MinMaxScaler)"
      ]
    },
    {
      "cell_type": "code",
      "execution_count": 46,
      "metadata": {
        "colab": {
          "base_uri": "https://localhost:8080/"
        },
        "id": "IUCOoY9pXxfj",
        "outputId": "6a5b5e49-42e1-4dae-ec6a-4467337597a8"
      },
      "outputs": [
        {
          "data": {
            "text/plain": [
              "(414, 1, 1)"
            ]
          },
          "execution_count": 46,
          "metadata": {},
          "output_type": "execute_result"
        }
      ],
      "source": [
        "x_test = []\n",
        "for i in range(1, 415):\n",
        "    x_test.append(inputs[i-1:i,0])\n",
        "x_test = np.array(x_test)\n",
        "x_test = np.reshape(x_test, (x_test.shape[0], x_test.shape[1],1))\n",
        "x_test.shape"
      ]
    },
    {
      "cell_type": "code",
      "execution_count": 47,
      "metadata": {
        "colab": {
          "base_uri": "https://localhost:8080/"
        },
        "id": "IotEpecDX6FD",
        "outputId": "b3f71a64-00f6-4daa-ff9e-a6fb79a50515"
      },
      "outputs": [
        {
          "name": "stdout",
          "output_type": "stream",
          "text": [
            "13/13 [==============================] - 0s 1ms/step\n"
          ]
        }
      ],
      "source": [
        "rnn = rnn.predict(x_test)\n",
        "rnn = sc.inverse_transform(rnn)"
      ]
    },
    {
      "cell_type": "code",
      "execution_count": 48,
      "metadata": {
        "id": "eK9XOttGX0LT"
      },
      "outputs": [],
      "source": [
        "test1 = pd.DataFrame(test)\n",
        "rnn1= pd.DataFrame(rnn)\n"
      ]
    },
    {
      "cell_type": "code",
      "execution_count": 49,
      "metadata": {},
      "outputs": [],
      "source": [
        "test = np.array(test)\n"
      ]
    },
    {
      "cell_type": "code",
      "execution_count": 50,
      "metadata": {
        "id": "7-xUgMLDlS81"
      },
      "outputs": [],
      "source": [
        "import pandas as pd\n",
        "\n",
        "# Create a DataFrame from the predicted and actual values\n",
        "df = pd.DataFrame({\n",
        "    'Ngày': data.iloc[17000:17414, 0].values,\n",
        "    'Thực tế': test.flatten(),\n",
        "    'Dự đoán': rnn.flatten()\n",
        "})\n",
        "\n",
        "# Export the DataFrame to an Excel file\n",
        "df.to_excel('du_doan_gia_thuc_te.xlsx', index=False)"
      ]
    },
    {
      "cell_type": "code",
      "execution_count": null,
      "metadata": {
        "id": "hx0Dq3ztYDGV"
      },
      "outputs": [],
      "source": []
    },
    {
      "cell_type": "markdown",
      "metadata": {
        "colab": {
          "base_uri": "https://localhost:8080/",
          "height": 462
        },
        "id": "k89lmwR4YFY9",
        "outputId": "ad43caa6-b30b-4a33-c1e9-d1698e281994"
      },
      "source": [
        "plt.figure(figsize=(15,5))\n",
        "plt.plot(test, marker='.', label='count', color='black')\n",
        "plt.plot(rnn, marker=',', label='RNN', color='red')\n",
        "plt.legend()"
      ]
    },
    {
      "cell_type": "code",
      "execution_count": null,
      "metadata": {
        "id": "jUwicd6EYZEL"
      },
      "outputs": [],
      "source": [
        "mse = np.mean((test1 - rnn1) ** 2)\n"
      ]
    }
  ],
  "metadata": {
    "colab": {
      "provenance": []
    },
    "kernelspec": {
      "display_name": "Python 3",
      "name": "python3"
    },
    "language_info": {
      "codemirror_mode": {
        "name": "ipython",
        "version": 3
      },
      "file_extension": ".py",
      "mimetype": "text/x-python",
      "name": "python",
      "nbconvert_exporter": "python",
      "pygments_lexer": "ipython3",
      "version": "3.11.7"
    }
  },
  "nbformat": 4,
  "nbformat_minor": 0
}
